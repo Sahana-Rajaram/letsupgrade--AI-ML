{
 "cells": [
  {
   "cell_type": "code",
   "execution_count": 1,
   "metadata": {},
   "outputs": [
    {
     "name": "stdout",
     "output_type": "stream",
     "text": [
      "(5+11j)\n",
      "(-1-1j)\n",
      "(-24+27j)\n",
      "(0.8+0.06666666666666667j)\n",
      "in complex numbers floor division and modular does not work\n"
     ]
    }
   ],
   "source": [
    "x=2+5j\n",
    "y=3+6j\n",
    "a=x+y\n",
    "b=x-y\n",
    "c=x*y\n",
    "d=x/y\n",
    "print(a)\n",
    "print(b)\n",
    "print(c)\n",
    "print(d)\n",
    "print(\"in complex numbers floor division and modular does not work\")"
   ]
  },
  {
   "cell_type": "markdown",
   "metadata": {},
   "source": [
    "# Range function \n",
    "  Range function returns a sequence of value for the 0 to the end.eg:\n",
    "  \n",
    "  \n",
    "  "
   ]
  },
  {
   "cell_type": "code",
   "execution_count": 5,
   "metadata": {},
   "outputs": [
    {
     "name": "stdout",
     "output_type": "stream",
     "text": [
      "0\n",
      "1\n",
      "2\n",
      "3\n",
      "4\n",
      "5\n",
      "6\n",
      "7\n",
      "8\n",
      "9\n"
     ]
    }
   ],
   "source": [
    "for seq in range(10):\n",
    "    print(seq)"
   ]
  },
  {
   "cell_type": "code",
   "execution_count": 2,
   "metadata": {},
   "outputs": [
    {
     "name": "stdout",
     "output_type": "stream",
     "text": [
      "enter the no:34\n",
      "enter the no:44\n",
      "-10\n",
      "0.7727272727272727\n"
     ]
    }
   ],
   "source": [
    "x=int(input (\"enter the no:\"))\n",
    "y=int(input (\"enter the no:\"))\n",
    "z=x-y\n",
    "print (z)\n",
    "if z>25:\n",
    "    a=x*y\n",
    "    print(a)\n",
    "else :\n",
    "    b=x/y\n",
    "    print(b)\n"
   ]
  },
  {
   "cell_type": "code",
   "execution_count": 3,
   "metadata": {},
   "outputs": [
    {
     "name": "stdout",
     "output_type": "stream",
     "text": [
      "482\n",
      "35 not divisible\n",
      "674\n",
      "77 not divisible\n",
      "27 not divisible\n",
      "7742\n",
      "57 not divisible\n",
      "2302\n",
      "99 not divisible\n",
      "115 not divisible\n"
     ]
    }
   ],
   "source": [
    "l=[22,35,26,77,27,88,57,48,99,115]\n",
    "for i in l:\n",
    "    if i%2==0:\n",
    "        print((i**2)-2)\n",
    "    else:\n",
    "        print(i,\"not divisible\")"
   ]
  },
  {
   "cell_type": "code",
   "execution_count": 4,
   "metadata": {},
   "outputs": [
    {
     "name": "stdout",
     "output_type": "stream",
     "text": [
      "2 lesser\n",
      "6 lesser\n",
      "4 lesser\n",
      "23 greater than 7\n",
      "12 lesser\n",
      "32 greater than 7\n",
      "7 lesser\n",
      "81 greater than 7\n",
      "55 greater than 7\n",
      "40 greater than 7\n"
     ]
    }
   ],
   "source": [
    "l=[2,6,4,23,12,32,7,81,55,40]\n",
    "for i in l:\n",
    "    if i/2>=7:\n",
    "        print (i,\"greater than 7\")\n",
    "    else:\n",
    "        print(i,\"lesser\")"
   ]
  },
  {
   "cell_type": "code",
   "execution_count": null,
   "metadata": {},
   "outputs": [],
   "source": []
  }
 ],
 "metadata": {
  "kernelspec": {
   "display_name": "Python 3",
   "language": "python",
   "name": "python3"
  },
  "language_info": {
   "codemirror_mode": {
    "name": "ipython",
    "version": 3
   },
   "file_extension": ".py",
   "mimetype": "text/x-python",
   "name": "python",
   "nbconvert_exporter": "python",
   "pygments_lexer": "ipython3",
   "version": "3.7.6"
  }
 },
 "nbformat": 4,
 "nbformat_minor": 4
}
